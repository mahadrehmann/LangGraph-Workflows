{
 "cells": [
  {
   "cell_type": "code",
   "execution_count": 3,
   "id": "da4a2c0d",
   "metadata": {},
   "outputs": [
    {
     "name": "stdout",
     "output_type": "stream",
     "text": [
      "INPUT:\n",
      " Mahad is studying in FAST university, haha less GPA.\n",
      "\n",
      "SUMMARY:\n",
      " Mahad is a student at FAST University and has a low GPA.\n",
      "\n",
      "TRANSLATION (Urdu):\n",
      " Here's the Urdu translation:\n",
      "\n",
      "**ماحد فاسٹ یونیورسٹی میں طالب علم ہے اور اس کا جی پی اے کم ہے۔**\n",
      "\n",
      "**Transliteration:** Mahad FAST University mein talib-e-ilm hai aur us ka GPA kam hai.\n"
     ]
    }
   ],
   "source": [
    "import os\n",
    "from typing import TypedDict\n",
    "from dotenv import load_dotenv\n",
    "from google import genai\n",
    "from google.genai import types\n",
    "from langgraph.graph import StateGraph, END\n",
    "\n",
    "# --- Load .env variables ---\n",
    "load_dotenv()\n",
    "api_key = os.getenv(\"GEMINI_API_KEY\")\n",
    "\n",
    "if not api_key:\n",
    "    raise ValueError(\"Missing GEMINI_API_KEY in .env file\")\n",
    "\n",
    "# Initialize Gemini client\n",
    "client = genai.Client(api_key=api_key)\n",
    "\n",
    "# Wrapper for Gemini 2.5 Flash\n",
    "def call_gemini(prompt: str, disable_thinking: bool = False) -> str:\n",
    "    cfg = None\n",
    "    if disable_thinking:\n",
    "        cfg = types.GenerateContentConfig(\n",
    "            thinking_config=types.ThinkingConfig(thinking_budget=0)\n",
    "        )\n",
    "    resp = client.models.generate_content(\n",
    "        model=\"gemini-2.5-flash\",\n",
    "        contents=prompt,\n",
    "        config=cfg,\n",
    "    )\n",
    "    return resp.text\n",
    "\n",
    "# ---------------- Define State ----------------\n",
    "class State(TypedDict, total=False):\n",
    "    input: str\n",
    "    summary: str\n",
    "    translation: str\n",
    "\n",
    "# ---------------- Nodes ----------------\n",
    "def summarizer(state: State) -> State:\n",
    "    prompt = \"Summarize this:\\n\\n\" + state[\"input\"]\n",
    "    return {\"summary\": call_gemini(prompt)}\n",
    "\n",
    "def translator(state: State) -> State:\n",
    "    prompt = \"Translate this into Urdu:\\n\\n\" + state[\"summary\"]\n",
    "    return {\"translation\": call_gemini(prompt)}\n",
    "\n",
    "# ---------------- Build Graph ----------------\n",
    "graph = StateGraph(State)\n",
    "graph.add_node(\"summarizer\", summarizer)\n",
    "graph.add_node(\"translator\", translator)\n",
    "graph.set_entry_point(\"summarizer\")\n",
    "graph.add_edge(\"summarizer\", \"translator\")\n",
    "graph.add_edge(\"translator\", END)\n",
    "app = graph.compile()\n",
    "\n",
    "# ---------------- Run ----------------\n",
    "if __name__ == \"__main__\":\n",
    "    input_text = \"Mahad is studying in FAST university, haha less GPA.\"\n",
    "    result = app.invoke({\"input\": input_text})\n",
    "\n",
    "    print(\"INPUT:\\n\", result.get(\"input\"))\n",
    "    print(\"\\nSUMMARY:\\n\", result.get(\"summary\"))\n",
    "    print(\"\\nTRANSLATION (Urdu):\\n\", result.get(\"translation\"))\n"
   ]
  },
  {
   "cell_type": "code",
   "execution_count": 8,
   "id": "38ec612e",
   "metadata": {},
   "outputs": [
    {
     "name": "stdout",
     "output_type": "stream",
     "text": [
      "---\n",
      "config:\n",
      "  flowchart:\n",
      "    curve: linear\n",
      "---\n",
      "graph TD;\n",
      "\t__start__([<p>__start__</p>]):::first\n",
      "\tsummarizer(summarizer)\n",
      "\ttranslator(translator)\n",
      "\t__end__([<p>__end__</p>]):::last\n",
      "\t__start__ --> summarizer;\n",
      "\tsummarizer --> translator;\n",
      "\ttranslator --> __end__;\n",
      "\tclassDef default fill:#f2f0ff,line-height:1.2\n",
      "\tclassDef first fill-opacity:0\n",
      "\tclassDef last fill:#bfb6fc\n",
      "\n"
     ]
    }
   ],
   "source": [
    "print(app.get_graph().draw_mermaid())\n"
   ]
  }
 ],
 "metadata": {
  "kernelspec": {
   "display_name": "venv",
   "language": "python",
   "name": "python3"
  },
  "language_info": {
   "codemirror_mode": {
    "name": "ipython",
    "version": 3
   },
   "file_extension": ".py",
   "mimetype": "text/x-python",
   "name": "python",
   "nbconvert_exporter": "python",
   "pygments_lexer": "ipython3",
   "version": "3.12.3"
  }
 },
 "nbformat": 4,
 "nbformat_minor": 5
}
